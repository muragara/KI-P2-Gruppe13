{
 "cells": [
  {
   "cell_type": "code",
   "id": "initial_id",
   "metadata": {
    "collapsed": true,
    "ExecuteTime": {
     "end_time": "2024-06-06T10:19:19.714953Z",
     "start_time": "2024-06-06T10:19:17.906210Z"
    }
   },
   "source": [
    "import matplotlib.pyplot as plt\n",
    "import numpy as np\n",
    "import tensorflow as tf\n",
    "import pandas as pd\n",
    "import seaborn as sns\n",
    "import pickle\n",
    "import random\n",
    "import os"
   ],
   "outputs": [
    {
     "name": "stderr",
     "output_type": "stream",
     "text": [
      "2024-06-06 12:19:18.292552: I tensorflow/core/util/port.cc:113] oneDNN custom operations are on. You may see slightly different numerical results due to floating-point round-off errors from different computation orders. To turn them off, set the environment variable `TF_ENABLE_ONEDNN_OPTS=0`.\n",
      "2024-06-06 12:19:18.293459: I external/local_tsl/tsl/cuda/cudart_stub.cc:32] Could not find cuda drivers on your machine, GPU will not be used.\n",
      "2024-06-06 12:19:18.334480: I external/local_tsl/tsl/cuda/cudart_stub.cc:32] Could not find cuda drivers on your machine, GPU will not be used.\n",
      "2024-06-06 12:19:18.506248: I tensorflow/core/platform/cpu_feature_guard.cc:210] This TensorFlow binary is optimized to use available CPU instructions in performance-critical operations.\n",
      "To enable the following instructions: AVX2 AVX_VNNI FMA, in other operations, rebuild TensorFlow with the appropriate compiler flags.\n",
      "2024-06-06 12:19:19.249676: W tensorflow/compiler/tf2tensorrt/utils/py_utils.cc:38] TF-TRT Warning: Could not find TensorRT\n"
     ]
    }
   ],
   "execution_count": 1
  },
  {
   "metadata": {
    "ExecuteTime": {
     "end_time": "2024-06-06T10:19:19.721047Z",
     "start_time": "2024-06-06T10:19:19.716266Z"
    }
   },
   "cell_type": "code",
   "source": "print(\"Num GPUs Available: \", len(tf.config.list_physical_devices('GPU')))",
   "id": "2875e091972f50b2",
   "outputs": [
    {
     "name": "stdout",
     "output_type": "stream",
     "text": [
      "Num GPUs Available:  0\n"
     ]
    }
   ],
   "execution_count": 2
  },
  {
   "metadata": {},
   "cell_type": "code",
   "outputs": [],
   "execution_count": null,
   "source": [
    "with open(os.path.join(\"dataset\", \"train.p\"), mode='rb') as training_data:\n",
    "    train = pickle.load(training_data)\n",
    "with open(os.path.join(\"dataset\", \"valid.p\"), mode='rb') as validation_data:\n",
    "    valid = pickle.load(validation_data)\n",
    "\n",
    "X_train, y_train = train['features'], train['labels']\n",
    "X_valid, y_valid = valid['features'], valid['labels']"
   ],
   "id": "3e05d4b533a98f2f"
  },
  {
   "metadata": {},
   "cell_type": "code",
   "outputs": [],
   "execution_count": null,
   "source": [
    "from sklearn.utils import shuffle\n",
    "X_train, y_train = shuffle(X_train, y_train)\n",
    "X_valid, y_valid = shuffle(X_valid, y_valid)"
   ],
   "id": "1965d79a06218c29"
  },
  {
   "metadata": {},
   "cell_type": "code",
   "outputs": [],
   "execution_count": null,
   "source": [
    "# Normalize image to [0, 1]\n",
    "X_train_norm = X_train / 255\n",
    "X_valid_norm = X_valid / 255"
   ],
   "id": "9108d22e026180c0"
  },
  {
   "metadata": {},
   "cell_type": "code",
   "outputs": [],
   "execution_count": null,
   "source": [
    "import optuna\n",
    "from tensorflow.keras import datasets, layers, models\n",
    "\n",
    "def objective(trial):\n",
    "    num_filters = trial.suggest_categorical('num_filters', [32, 64, 128])\n",
    "    # learning_rate = trial.suggest_float('learning_rate', 1e-5, 1e-2, log=True)\n",
    "    epochs = trial.suggest_categorical('epochs', [2,3,4,5,6,7,8,9,10])\n",
    "    kernel_size = trial.suggest_categorical('kernel_size', [1,2,3,4])\n",
    "    pool_size = trial.suggest_categorical('pool_size', [1,2,3,4])\n",
    "    padding = trial.suggest_categorical('padding', ['same', 'valid'])\n",
    "    n = trial.suggest_categorical('n', [1, 2, 3])\n",
    "    m = trial.suggest_categorical('m', [1, 2, 3])\n",
    "    o = trial.suggest_categorical('o', [0, 1, 2, 3])\n",
    "    strides = trial.suggest_categorical('strides', [1, 2, 3])\n",
    "    dropout = trial.suggest_categorical('dropout', [0.01, 0.05, 0.1, 0.15, 0.2, 0.3])\n",
    "\n",
    "\n",
    "    model = models.Sequential()\n",
    "    model.add(layers.Conv2D(filters=num_filters, kernel_size=kernel_size, padding=padding,\n",
    "                            activation=\"relu\", input_shape=(32, 32, 3)))\n",
    "\n",
    "    for _ in range(1,m):\n",
    "        for _ in range(1, n):\n",
    "            model.add(layers.Conv2D( filters = num_filters , kernel_size = ( kernel_size , kernel_size ), padding = padding , activation = \"relu\"))\n",
    "        model.add(layers.MaxPool2D(pool_size=(pool_size, pool_size), strides=strides, padding='same', data_format=None, name=None))\n",
    "        model.add(layers.Dropout(dropout))\n",
    "\n",
    "    # Other layers…\n",
    "    model.add(layers.Flatten())\n",
    "    for _ in range(1, o):\n",
    "        model.add(layers.Dense(64, activation='relu'))\n",
    "\n",
    "    model.add(layers.Dense(43, activation='softmax'))\n",
    "\n",
    "    # Compile the model\n",
    "    model.compile(optimizer='Adam', loss='sparse_categorical_crossentropy', metrics=['accuracy'])\n",
    "\n",
    "    history = model.fit(X_train_norm, y_train, epochs=epochs, validation_data=(X_valid_norm, y_valid), verbose=0)\n",
    "\n",
    "    val_accuracy = history.history[\"val_accuracy\"][-1]\n",
    "    return val_accuracy\n",
    "\n",
    "study = optuna.create_study(direction='maximize') # or 'minimize' for loss\n",
    "study.optimize(objective, n_trials=10)\n",
    "\n",
    "print(\"Number of finished trials: \", len(study.trials))\n",
    "print(\"Best trial:\")\n",
    "trial = study.best_trial\n",
    "\n",
    "print(\"  Value: \", trial.value)\n",
    "print(\"  Params: \")\n",
    "for key, value in trial.params.items():\n",
    "    print(f\"    {key}: {value}\")"
   ],
   "id": "32ba05ebe3cff9ce"
  }
 ],
 "metadata": {
  "kernelspec": {
   "display_name": "Python 3",
   "language": "python",
   "name": "python3"
  },
  "language_info": {
   "codemirror_mode": {
    "name": "ipython",
    "version": 2
   },
   "file_extension": ".py",
   "mimetype": "text/x-python",
   "name": "python",
   "nbconvert_exporter": "python",
   "pygments_lexer": "ipython2",
   "version": "2.7.6"
  }
 },
 "nbformat": 4,
 "nbformat_minor": 5
}
