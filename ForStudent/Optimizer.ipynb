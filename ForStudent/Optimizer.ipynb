{
 "cells": [
  {
   "cell_type": "code",
   "id": "initial_id",
   "metadata": {
    "collapsed": true,
    "jupyter": {
     "is_executing": true
    }
   },
   "source": [
    "import matplotlib.pyplot as plt\n",
    "import numpy as np\n",
    "import tensorflow as tf\n",
    "import pandas as pd\n",
    "import seaborn as sns\n",
    "import pickle\n",
    "import random\n",
    "import os"
   ],
   "outputs": [],
   "execution_count": null
  },
  {
   "metadata": {
    "jupyter": {
     "is_executing": true
    }
   },
   "cell_type": "code",
   "source": "print(\"Num GPUs Available: \", len(tf.config.list_physical_devices('GPU')))",
   "id": "2875e091972f50b2",
   "outputs": [],
   "execution_count": null
  },
  {
   "metadata": {
    "jupyter": {
     "is_executing": true
    }
   },
   "cell_type": "code",
   "source": [
    "with open(os.path.join(\"dataset\", \"train.p\"), mode='rb') as training_data:\n",
    "    train = pickle.load(training_data)\n",
    "with open(os.path.join(\"dataset\", \"valid.p\"), mode='rb') as validation_data:\n",
    "    valid = pickle.load(validation_data)\n",
    "\n",
    "X_train, y_train = train['features'], train['labels']\n",
    "X_valid, y_valid = valid['features'], valid['labels']"
   ],
   "id": "3e05d4b533a98f2f",
   "outputs": [],
   "execution_count": null
  },
  {
   "metadata": {
    "jupyter": {
     "is_executing": true
    }
   },
   "cell_type": "code",
   "source": [
    "from sklearn.utils import shuffle\n",
    "X_train, y_train = shuffle(X_train, y_train)\n",
    "X_valid, y_valid = shuffle(X_valid, y_valid)\n",
    "# X_train, y_train = X_train[:500], y_train[:500]"
   ],
   "id": "1965d79a06218c29",
   "outputs": [],
   "execution_count": null
  },
  {
   "metadata": {
    "jupyter": {
     "is_executing": true
    }
   },
   "cell_type": "code",
   "source": [
    "# Normalize image to [0, 1]\n",
    "X_train_norm = X_train / 255\n",
    "X_valid_norm = X_valid / 255"
   ],
   "id": "9108d22e026180c0",
   "outputs": [],
   "execution_count": null
  },
  {
   "metadata": {
    "jupyter": {
     "is_executing": true
    }
   },
   "cell_type": "code",
   "source": [
    "import optuna\n",
    "import tensorflow as tf\n",
    "from tensorflow.keras import datasets, layers, models\n",
    "from optuna.integration import TFKerasPruningCallback\n",
    "\n",
    "# Ensure TensorFlow uses GPU memory efficiently\n",
    "gpus = tf.config.experimental.list_physical_devices('GPU')\n",
    "if gpus:\n",
    "    try:\n",
    "        for gpu in gpus:\n",
    "            tf.config.experimental.set_memory_growth(gpu, True)\n",
    "    except RuntimeError as e:\n",
    "        print(e)\n",
    "\n",
    "\n",
    "def objective(trial):\n",
    "    num_filters = trial.suggest_categorical('num_filters', [32, 64, 128])\n",
    "    epochs = trial.suggest_int('epochs', 2, 10)\n",
    "    kernel_size = trial.suggest_categorical('kernel_size', [3, 5])\n",
    "    pool_size = trial.suggest_int('pool_size', 2, 3)\n",
    "    padding = trial.suggest_categorical('padding', ['same'])\n",
    "    conv_iterations = trial.suggest_int('conv_iterations', 1, 3)\n",
    "    compound_iterations = trial.suggest_int('compound_iterations', 1, 3)\n",
    "    dense_layer_iterations = trial.suggest_int('dense_layer_iterations', 1, 2)\n",
    "    strides = trial.suggest_int('strides', 1, 2)\n",
    "    dropout = trial.suggest_float('dropout', 0.1, 0.5, step=0.1)\n",
    "    last_layer_number = trial.suggest_categorical('last_layer_number', [43, 64, 128])\n",
    "    batch_size = trial.suggest_categorical('batch_size', [32, 64, 128])\n",
    "\n",
    "    model = models.Sequential()\n",
    "    model.add(layers.Conv2D(filters=num_filters, kernel_size=kernel_size, padding=padding,\n",
    "                            activation=\"relu\", input_shape=(32, 32, 3)))\n",
    "\n",
    "    for _ in range(compound_iterations):\n",
    "        for _ in range(conv_iterations):\n",
    "            model.add(layers.Conv2D(filters=num_filters, kernel_size=kernel_size, padding=padding, activation=\"relu\"))\n",
    "        model.add(layers.MaxPool2D(pool_size=pool_size, strides=strides, padding='same'))\n",
    "        model.add(layers.Dropout(dropout))\n",
    "\n",
    "    model.add(layers.Flatten())\n",
    "    for _ in range(dense_layer_iterations):\n",
    "        model.add(layers.Dense(64, activation='relu'))\n",
    "\n",
    "    model.add(layers.Dense(last_layer_number, activation='softmax'))\n",
    "\n",
    "    # Compile the model\n",
    "    model.compile(optimizer='Adam', loss='sparse_categorical_crossentropy', metrics=['accuracy'])\n",
    "\n",
    "    early_stopping = tf.keras.callbacks.EarlyStopping(\n",
    "        monitor='val_loss',\n",
    "        patience=3,\n",
    "        verbose=1,\n",
    "        restore_best_weights=True\n",
    "    )\n",
    "\n",
    "    pruning_callback = TFKerasPruningCallback(trial, 'val_accuracy')\n",
    "\n",
    "    history = model.fit(\n",
    "        X_train_norm, y_train,\n",
    "        epochs=epochs,\n",
    "        validation_data=(X_valid_norm, y_valid),\n",
    "        batch_size=batch_size,\n",
    "        verbose=0,\n",
    "        callbacks=[early_stopping, pruning_callback]\n",
    "    )\n",
    "\n",
    "    val_accuracy = history.history[\"val_accuracy\"][-1]\n",
    "    return val_accuracy\n",
    "\n",
    "\n",
    "# Use Optuna's RDBStorage for persistence\n",
    "storage = optuna.storages.RDBStorage(url='sqlite:///optuna_study.db')\n",
    "study = optuna.create_study(study_name='cnn_optimization2', storage=storage, direction='maximize', load_if_exists=True)\n",
    "study.optimize(objective, n_trials=300)  # n_jobs for parallel execution\n",
    "\n",
    "print(\"Number of finished trials: \", len(study.trials))\n",
    "print(\"Best trial:\")\n",
    "trial = study.best_trial\n",
    "\n",
    "print(\"  Value: \", trial.value)\n",
    "print(\"  Params: \")\n",
    "for key, value in trial.params.items():\n",
    "    print(f\"    {key}: {value}\")\n"
   ],
   "id": "32ba05ebe3cff9ce",
   "outputs": [],
   "execution_count": null
  }
 ],
 "metadata": {
  "kernelspec": {
   "display_name": "Python 3",
   "language": "python",
   "name": "python3"
  },
  "language_info": {
   "codemirror_mode": {
    "name": "ipython",
    "version": 2
   },
   "file_extension": ".py",
   "mimetype": "text/x-python",
   "name": "python",
   "nbconvert_exporter": "python",
   "pygments_lexer": "ipython2",
   "version": "2.7.6"
  }
 },
 "nbformat": 4,
 "nbformat_minor": 5
}
